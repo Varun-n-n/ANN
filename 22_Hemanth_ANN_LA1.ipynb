{
 "cells": [
  {
   "cell_type": "code",
   "execution_count": 20,
   "id": "052a8bb3",
   "metadata": {},
   "outputs": [
    {
     "name": "stdout",
     "output_type": "stream",
     "text": [
      "Successfully imported necessary libraries!\n"
     ]
    }
   ],
   "source": [
    "# Importing necessary libraries\n",
    "import random\n",
    "import math\n",
    "\n",
    "print('Successfully imported necessary libraries!')"
   ]
  },
  {
   "cell_type": "code",
   "execution_count": 21,
   "id": "6d19afd7",
   "metadata": {},
   "outputs": [
    {
     "name": "stdout",
     "output_type": "stream",
     "text": [
      "Successfully defined 'TicTacToe' class!\n"
     ]
    }
   ],
   "source": [
    "# Class representing the Tic Tac Toe game\n",
    "class TicTacToe:\n",
    "    def __init__(self):\n",
    "        self.board = [' ']*9  # Initialize an empty board\n",
    "        self.current_player = 'X'  # Start with player 'X'\n",
    "\n",
    "    # Method to print the current state of the board\n",
    "    def print_board(self):\n",
    "        for i in range(3):\n",
    "            print('|'.join(self.board[i*3:i*3+3]))\n",
    "            if i < 2:\n",
    "                print('-'*5)\n",
    "\n",
    "    # Method to get available moves (empty spaces) on the board\n",
    "    def available_moves(self):\n",
    "        return [i for i, v in enumerate(self.board) if v == ' ']\n",
    "\n",
    "    # Method to make a move on the board\n",
    "    def make_move(self, move):\n",
    "        new_game = self.copy()  # Create a copy of the current game state\n",
    "        new_game.board[move] = new_game.current_player  # Set the current player's symbol in the chosen position\n",
    "        new_game.current_player = 'O' if new_game.current_player == 'X' else 'X'  # Switch player\n",
    "        return new_game  # Return the modified game state\n",
    "\n",
    "    # Method to check if there's a winner or a tie\n",
    "    def check_winner(self):\n",
    "        winning_combinations = [[0, 1, 2], [3, 4, 5], [6, 7, 8], [0, 3, 6], [1, 4, 7], [2, 5, 8], [0, 4, 8], [2, 4, 6]]\n",
    "        for combo in winning_combinations:\n",
    "            if self.board[combo[0]] == self.board[combo[1]] == self.board[combo[2]] != ' ':\n",
    "                return self.board[combo[0]]  # Return the winning symbol ('X' or 'O')\n",
    "        if ' ' not in self.board:  # If there are no empty spaces and no winner, it's a tie\n",
    "            return 'Tie'\n",
    "        return None  # If there's no winner yet, return None\n",
    "\n",
    "    # Method to create a copy of the current game state\n",
    "    def copy(self):\n",
    "        new_game = TicTacToe()  # Create a new TicTacToe instance\n",
    "        new_game.board = self.board[:]  # Copy the board\n",
    "        new_game.current_player = self.current_player  # Copy the current player\n",
    "        return new_game  # Return the copied game state\n",
    "\n",
    "print('Successfully defined \\'TicTacToe\\' class!')"
   ]
  },
  {
   "cell_type": "code",
   "execution_count": 22,
   "id": "33e20607",
   "metadata": {},
   "outputs": [
    {
     "name": "stdout",
     "output_type": "stream",
     "text": [
      "Successfully defined 'Node'!\n"
     ]
    }
   ],
   "source": [
    "# Class representing a node in the Monte Carlo Tree Search (MCTS)\n",
    "class Node:\n",
    "    def __init__(self, move=None, parent=None, state=None):\n",
    "        self.move = move  # Move that led to this node from parent\n",
    "        self.parent = parent\n",
    "        self.children = []\n",
    "        self.wins = 0  # Number of wins\n",
    "        self.visits = 0  # Number of visits\n",
    "        self.untried_moves = state.available_moves()  # List of untried moves\n",
    "        self.current_player = state.current_player  # Current player symbol\n",
    "\n",
    "    # Method to select a child node based on UCB1 formula\n",
    "    def select_child(self):\n",
    "        # Use UCB1 formula to select child node\n",
    "        return max(self.children, key=lambda c: c.wins/c.visits + math.sqrt(2*math.log(self.visits)/c.visits))\n",
    "\n",
    "    # Method to add a child node\n",
    "    def add_child(self, move, state):\n",
    "        child = Node(move=move, parent=self, state=state)\n",
    "        self.untried_moves.remove(move)  # Remove the move from untried moves\n",
    "        self.children.append(child)  # Add the child node to the children list\n",
    "        return child\n",
    "\n",
    "    # Method to update the number of wins and visits of a node\n",
    "    def update(self, result):\n",
    "        self.visits += 1  # Increment visits count\n",
    "        self.wins += result  # Increment wins count based on the result of the simulation\n",
    "        \n",
    "print('Successfully defined \\'Node\\'!')"
   ]
  },
  {
   "cell_type": "code",
   "execution_count": 23,
   "id": "91d0a57f",
   "metadata": {},
   "outputs": [
    {
     "name": "stdout",
     "output_type": "stream",
     "text": [
      "Successfully defined the Evaluation Function!\n"
     ]
    }
   ],
   "source": [
    "# Simple evaluation function for Tic Tac Toe\n",
    "def neural_network_evaluation(state):\n",
    "    if state.check_winner() == 'X':  # If 'X' wins\n",
    "        return -1\n",
    "    elif state.check_winner() == 'O':  # If 'O' wins\n",
    "        return 1\n",
    "    else:  # If it's a tie\n",
    "        return 0\n",
    "    \n",
    "print('Successfully defined the Evaluation Function!')"
   ]
  },
  {
   "cell_type": "code",
   "execution_count": 24,
   "id": "ea44fda7",
   "metadata": {},
   "outputs": [
    {
     "name": "stdout",
     "output_type": "stream",
     "text": [
      "Successfully Implemented 'Monte-Carlo Tree Search',[A deep_learning technique]!\n"
     ]
    }
   ],
   "source": [
    "# Monte Carlo Tree Search algorithm(deep_learning_technique)\n",
    "\n",
    "def mcts(state, iterations):\n",
    "    root = Node(state=state)  # Create the root node with the initial game state\n",
    "    for _ in range(iterations):\n",
    "        node = root  # Start from the root node\n",
    "        current_state = state.copy()  # Create a copy of the current game state\n",
    "        depth = 0  # Track the depth of the search tree\n",
    "        # Selection phase\n",
    "        while not node.untried_moves and node.children:\n",
    "            node = node.select_child()  # Select the child node with the highest UCB1 value\n",
    "            current_state = current_state.make_move(node.move)  # Update the game state based on the selected move\n",
    "            depth += 1  # Increment depth\n",
    "        # Expansion phase\n",
    "        if node.untried_moves:\n",
    "            # First, check if there are winning moves available\n",
    "            winning_moves = [move for move in node.untried_moves if current_state.make_move(move).check_winner() == current_state.current_player]\n",
    "            if winning_moves:\n",
    "                move = random.choice(winning_moves)  # Choose a winning move randomly\n",
    "            else:\n",
    "                move = random.choice(node.untried_moves)  # Choose a random move from untried moves\n",
    "            current_state = current_state.make_move(move)  # Update the game state based on the chosen move\n",
    "            node = node.add_child(move, current_state)  # Add the new child node\n",
    "            depth += 1  # Increment depth\n",
    "        # Simulation phase\n",
    "        while not current_state.check_winner():  # Continue simulation until there's a winner\n",
    "            move = random.choice(current_state.available_moves())  # Choose a random move\n",
    "            current_state = current_state.make_move(move)  # Update the game state based on the chosen move\n",
    "            depth += 1  # Increment depth\n",
    "        result = neural_network_evaluation(current_state)  # Evaluate the final game state\n",
    "        # Backpropagation phase\n",
    "        while node:  # Update all nodes visited during the search\n",
    "            node.update(result)  # Update the node with the simulation result\n",
    "            node = node.parent  # Move to the parent node\n",
    "    best_move = max(root.children, key=lambda c: c.visits).move  # Choose the best move based on visit counts\n",
    "    return best_move  # Return the best move\n",
    "\n",
    "print('Successfully Implemented \\'Monte-Carlo Tree Search\\',[A deep_learning technique]!')"
   ]
  },
  {
   "cell_type": "code",
   "execution_count": 25,
   "id": "eaac8451",
   "metadata": {},
   "outputs": [],
   "source": [
    "#lets integrate above functions into main_function!\n",
    "# Function to play the Tic Tac Toe game\n",
    "\n",
    "def play_game():\n",
    "    game = TicTacToe()  # Create a new TicTacToe instance\n",
    "    print(\"Welcome to Tic Tac Toe!\")\n",
    "    while not game.check_winner():  # Continue playing until there's a winner or a tie\n",
    "        game.print_board()  # Print the current state of the board\n",
    "        if game.current_player == 'X':  # If it's player X's turn\n",
    "            move = int(input(\"Enter your move (1-9): \"))-1  # Get input from the user\n",
    "        else:  # If it's AI's turn\n",
    "            print(\"AI is thinking...\\n\")\n",
    "            move = mcts(game, iterations=1000)  # Use MCTS to find the best move\n",
    "        if move in game.available_moves():  # Check if the chosen move is valid\n",
    "            game = game.make_move(move)  # Make the move\n",
    "        else:\n",
    "            print(\"Invalid move, try again.\\n\")  # If the move is invalid, prompt the user to try again\n",
    "    game.print_board()  # Print the final state of the board\n",
    "    winner = game.check_winner()  # Get the winner or 'Tie'\n",
    "    if winner == 'Tie':\n",
    "        print(\"It's a tie!\")  # Print if it's a tie\n",
    "    else:\n",
    "        print(f\"{winner} wins!\")  # Print the winner"
   ]
  },
  {
   "cell_type": "code",
   "execution_count": 31,
   "id": "9f345f08",
   "metadata": {
    "collapsed": true
   },
   "outputs": [
    {
     "name": "stdout",
     "output_type": "stream",
     "text": [
      "Welcome to Tic Tac Toe!\n",
      " | | \n",
      "-----\n",
      " | | \n",
      "-----\n",
      " | | \n",
      "Enter your move (1-9): 1\n",
      "X| | \n",
      "-----\n",
      " | | \n",
      "-----\n",
      " | | \n",
      "AI is thinking...\n",
      "\n",
      "X| | \n",
      "-----\n",
      " |O| \n",
      "-----\n",
      " | | \n",
      "Enter your move (1-9): 5\n",
      "Invalid move, try again.\n",
      "\n",
      "X| | \n",
      "-----\n",
      " |O| \n",
      "-----\n",
      " | | \n",
      "Enter your move (1-9): 7\n",
      "X| | \n",
      "-----\n",
      " |O| \n",
      "-----\n",
      "X| | \n",
      "AI is thinking...\n",
      "\n",
      "X| | \n",
      "-----\n",
      "O|O| \n",
      "-----\n",
      "X| | \n",
      "Enter your move (1-9): 6\n",
      "X| | \n",
      "-----\n",
      "O|O|X\n",
      "-----\n",
      "X| | \n",
      "AI is thinking...\n",
      "\n",
      "X|O| \n",
      "-----\n",
      "O|O|X\n",
      "-----\n",
      "X| | \n",
      "Enter your move (1-9): 8\n",
      "X|O| \n",
      "-----\n",
      "O|O|X\n",
      "-----\n",
      "X|X| \n",
      "AI is thinking...\n",
      "\n",
      "X|O| \n",
      "-----\n",
      "O|O|X\n",
      "-----\n",
      "X|X|O\n",
      "Enter your move (1-9): 3\n",
      "X|O|X\n",
      "-----\n",
      "O|O|X\n",
      "-----\n",
      "X|X|O\n",
      "It's a tie!\n"
     ]
    }
   ],
   "source": [
    "#Model is Ready\n",
    "#Lets Execute it!\n",
    "\n",
    "if __name__ == \"__main__\":\n",
    "    play_game()"
   ]
  },
  {
   "cell_type": "code",
   "execution_count": null,
   "id": "9b0ee553",
   "metadata": {},
   "outputs": [],
   "source": []
  }
 ],
 "metadata": {
  "kernelspec": {
   "display_name": "Python 3 (ipykernel)",
   "language": "python",
   "name": "python3"
  },
  "language_info": {
   "codemirror_mode": {
    "name": "ipython",
    "version": 3
   },
   "file_extension": ".py",
   "mimetype": "text/x-python",
   "name": "python",
   "nbconvert_exporter": "python",
   "pygments_lexer": "ipython3",
   "version": "3.11.7"
  }
 },
 "nbformat": 4,
 "nbformat_minor": 5
}
